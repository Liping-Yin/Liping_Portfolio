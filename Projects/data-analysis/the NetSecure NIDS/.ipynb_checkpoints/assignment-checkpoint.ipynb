{
 "cells": [
  {
   "cell_type": "markdown",
   "metadata": {},
   "source": [
    "# The NetSecure NIDS\n",
    "The startup company NetSecure has been observing the recent hacks on the news. Because they are working on a new product, and they want to protect their intellectual property, they have decided to improve their network security.\n",
    "\t\n",
    "To this end, they want to deploy a Network Intrusion Detection System (NIDS) that analyses all the traffic passing between their internal network and the internet. Unfortunately, all security solutions provided by security companies are too expensive for NetSecure. Therefore they approached you with the assignment of building a NIDS.\n",
    "\n",
    "## Network setup\n",
    "NetSecure is a small company with only 3 employees. All of whom have a single desktop machine which they use for their daily work. Furthermore, the company runs a server which provides various webservices to the internet. Figure 1 gives an overview of the network structure of NetSecure. It also shows where the NIDS will be placed.\n",
    "\n",
    "<img src=\"images/network.png\" width=600>\n",
    "<div align=\"center\">Figure 1. Overview of the network setup of company NetSecure, including the IP addresses of their machines.</div>\n",
    "\n",
    "## Available data\n",
    "In order to train the NIDS that you are creating you are given two datasets of network traffic, both captured at the router as given in Figure 1.\n",
    "\t\n",
    " 1. A dataset of benign traffic.\n",
    " 2. A dataset of unknown traffic.\n",
    "\n",
    "It is up to you to train a machine learning algorithm with the benign traffic. Once you have trained the NIDS, you will test the unknown traffic to determine which parts should be classified as benign and which parts should be classified as malicious.\n",
    "\t\n",
    "The network traffic that is captured is provided as a .csv file of individual TCP and UDP packets. Each packet has the following features:\n",
    "\n",
    " * *timestamp*, indicating at what time the packet was sent.\n",
    " * *protocol*, indicating whether the packet was sent over TCP or UDP.\n",
    " * *src*, the source IP address of the packet.\n",
    " * *sport*, the source port of the packet.\n",
    " * *dst*, the destination IP address of the packet.\n",
    " * *dport*, the destination port of the packet.\n",
    " * *packet size*, indicating the amount of bytes sent in the packet.\n",
    "\n",
    "Furthermore, the dataset of benign traffic also contains labels of the applications that are generating the network traffic.\n",
    "\n",
    "## Assignment\n",
    "In this assignment we will walk through all the steps necessary to create a proper NIDS for NetSecure. The first thing we need to do is load the assignment."
   ]
  },
  {
   "cell_type": "code",
   "execution_count": 1,
   "metadata": {},
   "outputs": [],
   "source": [
    "# Imports numpy and pandas libraries\n",
    "import numpy  as np\n",
    "import pandas as pd\n",
    "\n",
    "# Imports assignment from backend\n",
    "from ml4sec import Assignment\n",
    "\n",
    "# Initialises assignment with given files.\n",
    "# HINT: make sure you extract the benign.csv and unknown.csv files in data directory as assignment.ipynb\n",
    "assignment = Assignment(\n",
    "    file_benign  = 'data/benign.csv',\n",
    "    file_unknown = 'data/unknown.csv',\n",
    ")"
   ]
  },
  {
   "cell_type": "markdown",
   "metadata": {},
   "source": [
    "## 1. Feature selection/extraction\n",
    "The network packets in the transport layer (i.e. TCP and UDP packets) all belong to a network flow. Such a flow is given by the 5-tuple (*protocol*, *src*, *sport*, *dst*, *dport*). All of the packets within such a flow belong to the same application. We can leverage this knowledge to group packets together and extract statistical features from them as a group.\n",
    "\n",
    "**Question 1.1.** We can compute some statistical features of each group. These features may give us an advantage in the detection phase of our NIDS. Which statistical features can be computed?\n",
    "\n",
    "*(Hint 1: An example feature could be the maximum length of a packet in a flow.)*\n",
    "\n",
    "*(Hint 2: The timestamp itself does not say much about the origin of a packet, however the frequency (i.e. time between packets) might give us some more information.)*\n",
    "\n",
    "**NB:** in this question it is up to you to determine how many features you want to extract. Keep in mind that this will have influence on the performance of your NIDS so think carefully about the features you could extract."
   ]
  },
  {
   "cell_type": "code",
   "execution_count": 2,
   "metadata": {},
   "outputs": [],
   "source": [
    "# features: \n",
    "#1.maximum length of a packet in a flow\n",
    "#2.minimum length of a packet in a flow\n",
    "#3.average frequency of packets in a flow\n",
    "#4.highest frequency of packets in a flow\n",
    "#5.lowest frequency of packets in a flow"
   ]
  },
  {
   "cell_type": "code",
   "execution_count": 3,
   "metadata": {},
   "outputs": [
    {
     "name": "stdout",
     "output_type": "stream",
     "text": [
      "12589\n"
     ]
    }
   ],
   "source": [
    "    benign_df = assignment.load('data/benign.csv')\n",
    "    unkown_df = assignment.load('data/unknown.csv')\n",
    "    # print(benign_df[:2])\n",
    "    benign_flows = assignment.flows(benign_df) # [(protocol, src, sport, dst, dport),df],labels:[n_flows,]\n",
    "    unkown_flows = assignment.flows(unkown_df)\n",
    "    # print(benign_flows)\n",
    "#     print(benign_flows[0][0],benign_flows[1])\n",
    "\n",
    "# used for testing\n",
    "print(len(benign_flows[0]))\n",
    "\n",
    "feature = []\n",
    "key = ('TCP', '10.0.0.1', 27, '94.173.2.115', 443)\n",
    "max_len = dict(benign_flows[0])[key]['size'].max()\n",
    "# feature.append((max_len)\n",
    "# feature.append(max_len)\n",
    "# print(feature)\n",
    "# print(type(feature))\n",
    "# print(type(benign_flows[0]))\n",
    "\n",
    "# flows_df=dict(benign_flows[0])[key]\n",
    "# avg_freq = flows_df['timestamp'].diff()\n",
    "# print(avg_freq)\n",
    "# print(avg_freq.mean())"
   ]
  },
  {
   "cell_type": "markdown",
   "metadata": {},
   "source": [
    "**Question 1.2.** We now want to extract these new features for each flow. To this end, you will implement the function `extract()` which has access to the `protocol`, `src`, `sport`, `dst`, `dport` of a flow, as well as the `timestamps`, and `sizes` for each packet within the flow. Your assignment is to implement `extract` which should return a list of extracted features as described the in previous question. Note that this function is called for each flow. To test your method for X flows, please run the `assignment.test_extract(X)` as described below."
   ]
  },
  {
   "cell_type": "code",
   "execution_count": 4,
   "metadata": {},
   "outputs": [],
   "source": [
    "def extract(protocol, src, sport, dst, dport, timestamps, sizes):\n",
    "    # This part must be implemented\n",
    "#     pass\n",
    "    feature =[]    \n",
    "#     flow_key = (protocol, src, sport, dst, dport)\n",
    "#     flows_df = dict(benign_flows[0]+unkown_flows[0])[flow_key] \n",
    "    \n",
    "    #maximun length of a flow\n",
    "#     max_length = flows_df['size'].max() \n",
    "    max_length = sizes.max() \n",
    "    min_length = sizes.min()\n",
    "    #average frequency of a flow\n",
    "#     avg_freq = flows_df['timestamp'].diff().mean()\n",
    "    avg_freq = np.diff(timestamps).mean()\n",
    "    highest_freq = np.diff(timestamps).max()\n",
    "    lowest_freq = np.diff(timestamps).min()\n",
    "    feature.append((max_length))\n",
    "    feature.append(min_length)\n",
    "    feature.append(avg_freq)\n",
    "    feature.append(highest_freq)\n",
    "    feature.append(lowest_freq)\n",
    "    return feature\n",
    "\n",
    "# Set extract method\n",
    "assignment.extract = extract"
   ]
  },
  {
   "cell_type": "markdown",
   "metadata": {},
   "source": [
    "You can use the code below to test your implementation of `extract()` with a given number of flows."
   ]
  },
  {
   "cell_type": "code",
   "execution_count": 5,
   "metadata": {},
   "outputs": [
    {
     "name": "stdout",
     "output_type": "stream",
     "text": [
      "Flow (TCP, 10.0.0.1, 27, 94.173.2.115, 443):\n",
      "\ttimestamps        : [1.60754158e+09 1.60754159e+09 1.60754159e+09 1.60754159e+09\n",
      " 1.60754159e+09 1.60754159e+09 1.60754160e+09 1.60754160e+09\n",
      " 1.60754160e+09 1.60754160e+09 1.60754160e+09 1.60754161e+09\n",
      " 1.60754161e+09 1.60754161e+09 1.60754161e+09 1.60754161e+09\n",
      " 1.60754162e+09 1.60754162e+09 1.60754162e+09 1.60754162e+09\n",
      " 1.60754162e+09 1.60754163e+09 1.60754163e+09 1.60754163e+09\n",
      " 1.60754163e+09 1.60754163e+09 1.60754164e+09 1.60754164e+09\n",
      " 1.60754164e+09 1.60754164e+09 1.60754164e+09 1.60754165e+09\n",
      " 1.60754165e+09 1.60754165e+09 1.60754165e+09 1.60754165e+09\n",
      " 1.60754166e+09 1.60754166e+09 1.60754166e+09 1.60754166e+09\n",
      " 1.60754166e+09 1.60754167e+09 1.60754167e+09 1.60754167e+09\n",
      " 1.60754167e+09 1.60754167e+09 1.60754168e+09 1.60754168e+09\n",
      " 1.60754168e+09]\n",
      "\tsizes             : [846 788 765 721 786 766 728 815 867 787 803 753 770 746 693 802 780 749\n",
      " 778 797 758 723 837 813 732 827 796 776 664 824 782 802 765 850 736 745\n",
      " 714 833 857 860 752 710 751 815 703 803 750 791 788]\n",
      "\tExtracted features: [867.         664.           2.01751886   2.18350244   1.81525159]\n",
      "\n",
      "Flow (TCP, 10.0.0.1, 41, 94.173.2.115, 443):\n",
      "\ttimestamps        : [1.60754798e+09 1.60754798e+09 1.60754798e+09 1.60754799e+09\n",
      " 1.60754799e+09 1.60754799e+09 1.60754799e+09 1.60754799e+09\n",
      " 1.60754800e+09 1.60754800e+09 1.60754800e+09 1.60754800e+09\n",
      " 1.60754800e+09 1.60754801e+09 1.60754801e+09 1.60754801e+09\n",
      " 1.60754801e+09 1.60754801e+09 1.60754802e+09 1.60754802e+09\n",
      " 1.60754802e+09 1.60754802e+09 1.60754802e+09 1.60754802e+09\n",
      " 1.60754803e+09 1.60754803e+09 1.60754803e+09 1.60754803e+09\n",
      " 1.60754804e+09 1.60754804e+09 1.60754804e+09 1.60754804e+09\n",
      " 1.60754804e+09 1.60754805e+09 1.60754805e+09 1.60754805e+09\n",
      " 1.60754805e+09 1.60754805e+09 1.60754806e+09 1.60754806e+09\n",
      " 1.60754806e+09 1.60754806e+09 1.60754806e+09 1.60754807e+09\n",
      " 1.60754807e+09 1.60754807e+09 1.60754807e+09 1.60754807e+09]\n",
      "\tsizes             : [906 733 781 791 805 828 740 768 763 852 822 775 752 774 829 788 754 827\n",
      " 827 734 832 858 792 800 749 755 794 722 834 777 836 702 732 878 748 861\n",
      " 807 854 744 800 760 780 747 792 773 761 780 825]\n",
      "\tExtracted features: [906.         702.           2.02243406   2.2472713    1.815907  ]\n",
      "\n"
     ]
    }
   ],
   "source": [
    "# Changes the number to test different numbers of flows\n",
    "assignment.test_extract(2)"
   ]
  },
  {
   "cell_type": "markdown",
   "metadata": {},
   "source": [
    "Now that we extracted the features, we represent them in a feature matrix. Each row in this matrix represents a flow and each column represents a feature. Run the code below to show the feature matrix for your feature extraction."
   ]
  },
  {
   "cell_type": "code",
   "execution_count": 6,
   "metadata": {},
   "outputs": [
    {
     "data": {
      "text/html": [
       "<div>\n",
       "<style scoped>\n",
       "    .dataframe tbody tr th:only-of-type {\n",
       "        vertical-align: middle;\n",
       "    }\n",
       "\n",
       "    .dataframe tbody tr th {\n",
       "        vertical-align: top;\n",
       "    }\n",
       "\n",
       "    .dataframe thead th {\n",
       "        text-align: right;\n",
       "    }\n",
       "</style>\n",
       "<table border=\"1\" class=\"dataframe\">\n",
       "  <thead>\n",
       "    <tr style=\"text-align: right;\">\n",
       "      <th></th>\n",
       "      <th>0</th>\n",
       "      <th>1</th>\n",
       "      <th>2</th>\n",
       "      <th>3</th>\n",
       "      <th>4</th>\n",
       "    </tr>\n",
       "  </thead>\n",
       "  <tbody>\n",
       "    <tr>\n",
       "      <th>0</th>\n",
       "      <td>867.0</td>\n",
       "      <td>664.0</td>\n",
       "      <td>2.017519</td>\n",
       "      <td>2.183502</td>\n",
       "      <td>1.815252</td>\n",
       "    </tr>\n",
       "    <tr>\n",
       "      <th>1</th>\n",
       "      <td>906.0</td>\n",
       "      <td>702.0</td>\n",
       "      <td>2.022434</td>\n",
       "      <td>2.247271</td>\n",
       "      <td>1.815907</td>\n",
       "    </tr>\n",
       "    <tr>\n",
       "      <th>2</th>\n",
       "      <td>799.0</td>\n",
       "      <td>483.0</td>\n",
       "      <td>0.982999</td>\n",
       "      <td>1.260010</td>\n",
       "      <td>0.795367</td>\n",
       "    </tr>\n",
       "    <tr>\n",
       "      <th>3</th>\n",
       "      <td>1187.0</td>\n",
       "      <td>1129.0</td>\n",
       "      <td>2.008661</td>\n",
       "      <td>2.232194</td>\n",
       "      <td>1.786514</td>\n",
       "    </tr>\n",
       "    <tr>\n",
       "      <th>4</th>\n",
       "      <td>1194.0</td>\n",
       "      <td>1134.0</td>\n",
       "      <td>2.013165</td>\n",
       "      <td>2.276765</td>\n",
       "      <td>1.759076</td>\n",
       "    </tr>\n",
       "    <tr>\n",
       "      <th>...</th>\n",
       "      <td>...</td>\n",
       "      <td>...</td>\n",
       "      <td>...</td>\n",
       "      <td>...</td>\n",
       "      <td>...</td>\n",
       "    </tr>\n",
       "    <tr>\n",
       "      <th>12584</th>\n",
       "      <td>1151.0</td>\n",
       "      <td>838.0</td>\n",
       "      <td>1.004994</td>\n",
       "      <td>1.196490</td>\n",
       "      <td>0.827151</td>\n",
       "    </tr>\n",
       "    <tr>\n",
       "      <th>12585</th>\n",
       "      <td>1156.0</td>\n",
       "      <td>801.0</td>\n",
       "      <td>1.014599</td>\n",
       "      <td>1.211509</td>\n",
       "      <td>0.814481</td>\n",
       "    </tr>\n",
       "    <tr>\n",
       "      <th>12586</th>\n",
       "      <td>1199.0</td>\n",
       "      <td>891.0</td>\n",
       "      <td>0.997396</td>\n",
       "      <td>1.258667</td>\n",
       "      <td>0.803255</td>\n",
       "    </tr>\n",
       "    <tr>\n",
       "      <th>12587</th>\n",
       "      <td>1123.0</td>\n",
       "      <td>831.0</td>\n",
       "      <td>1.018561</td>\n",
       "      <td>1.231149</td>\n",
       "      <td>0.814956</td>\n",
       "    </tr>\n",
       "    <tr>\n",
       "      <th>12588</th>\n",
       "      <td>1136.0</td>\n",
       "      <td>863.0</td>\n",
       "      <td>0.993915</td>\n",
       "      <td>1.236348</td>\n",
       "      <td>0.763526</td>\n",
       "    </tr>\n",
       "  </tbody>\n",
       "</table>\n",
       "<p>12589 rows × 5 columns</p>\n",
       "</div>"
      ],
      "text/plain": [
       "            0       1         2         3         4\n",
       "0       867.0   664.0  2.017519  2.183502  1.815252\n",
       "1       906.0   702.0  2.022434  2.247271  1.815907\n",
       "2       799.0   483.0  0.982999  1.260010  0.795367\n",
       "3      1187.0  1129.0  2.008661  2.232194  1.786514\n",
       "4      1194.0  1134.0  2.013165  2.276765  1.759076\n",
       "...       ...     ...       ...       ...       ...\n",
       "12584  1151.0   838.0  1.004994  1.196490  0.827151\n",
       "12585  1156.0   801.0  1.014599  1.211509  0.814481\n",
       "12586  1199.0   891.0  0.997396  1.258667  0.803255\n",
       "12587  1123.0   831.0  1.018561  1.231149  0.814956\n",
       "12588  1136.0   863.0  0.993915  1.236348  0.763526\n",
       "\n",
       "[12589 rows x 5 columns]"
      ]
     },
     "execution_count": 6,
     "metadata": {},
     "output_type": "execute_result"
    }
   ],
   "source": [
    "# Shows feature matrix\n",
    "assignment.show_matrix()"
   ]
  },
  {
   "cell_type": "markdown",
   "metadata": {},
   "source": [
    "## 2. Data Preprocessing\n",
    "The data that we have stored is composed of different features. All these features are stored within a range of values. For example, the length of a packet is limited by the Maximum Transmission Unit (MTU), which by default is 1500 bytes giving this feature a range of [0, 1500]. Conversely, we may observe from the data that the average time between packets is in the range [0, 10] seconds. When a machine learning algorithm tries to compare two datapoints, it will put a much greater weight to the feature with range [0, 1500] than the feature with range [0, 10] because the absolute differences are much larger. Instead, we would like to compare the relative distances for each feature. To this end, we apply a technique called `scaling`.\n",
    "\n",
    "There are many different scaling techniques, but for the purpose of creating a NIDS, we will use min-max scaling. This scaling technique scales the original values in such a way that the minimum value for each feature is mapped to 0, and the maximum value for each feature is mapped to 1. The relative distance between each values is preserved. The formula for calculating the new value `z_i` of feature $x_i$ from feature $X$ is given as\n",
    "\n",
    "$$z_i = \\frac{x_i - \\min{(X)}}{\\max{(X)} - \\min{(X)}}.$$\n",
    "\n",
    "**Question 2.1.** Implement the `scale` function using the given formula. First compute the minimum and maximum values for each column from the matrix. Next use these values to scale the matrix.\n",
    "\n",
    "_Important: The method should return the scaled matrix, computed minimum, and computed maximum values for the given matrix._"
   ]
  },
  {
   "cell_type": "code",
   "execution_count": 7,
   "metadata": {},
   "outputs": [],
   "source": [
    "def scale(matrix, minimum=None, maximum=None):\n",
    "    \n",
    "    columns = matrix.shape[1]\n",
    "    rows = matrix.shape[0]\n",
    "    min_value = []\n",
    "    max_value = []\n",
    "    # If minimum value is not given, compute the minimum for each feature\n",
    "    if minimum is None:\n",
    "        # -- matrix column to find min and max value\n",
    "        for k in range(columns):\n",
    "            min_value.append(matrix[:,k].min())\n",
    "        minimum = min_value\n",
    "        \n",
    "    # If maximum value is not given, compute the maximum for each feature\n",
    "    if maximum is None:\n",
    "        for k in range(columns):\n",
    "            max_value.append(matrix[:,k].max())\n",
    "        maximum = max_value\n",
    "\n",
    "    # Use the minimum and maximum to compute the scaled matrix       \n",
    "    scaled = np.zeros((rows,columns))     \n",
    "    for r in range(rows):\n",
    "        for k in range(columns):\n",
    "            mn = minimum[k]\n",
    "            mx = maximum[k]\n",
    "            scaled[r,k] = (matrix[r,k] - mn)/(mx-mn)    \n",
    "    return scaled,min_value,max_value\n",
    "    \n",
    "# Sets scale method\n",
    "assignment.scale = scale"
   ]
  },
  {
   "cell_type": "markdown",
   "metadata": {},
   "source": [
    "Run the code below to show the scaled feature matrix produced by your scale function. All values should be between 0 and 1.\n",
    "\n",
    "_Hint: If your matrix shows NaN values, this likely means that there was a divide by 0 error. This happens if you have features that are all the same. If this is the case for you, please revisit your_ `extract()` _function and check which feature produces values that are all the same._"
   ]
  },
  {
   "cell_type": "code",
   "execution_count": 8,
   "metadata": {},
   "outputs": [
    {
     "data": {
      "text/html": [
       "<div>\n",
       "<style scoped>\n",
       "    .dataframe tbody tr th:only-of-type {\n",
       "        vertical-align: middle;\n",
       "    }\n",
       "\n",
       "    .dataframe tbody tr th {\n",
       "        vertical-align: top;\n",
       "    }\n",
       "\n",
       "    .dataframe thead th {\n",
       "        text-align: right;\n",
       "    }\n",
       "</style>\n",
       "<table border=\"1\" class=\"dataframe\">\n",
       "  <thead>\n",
       "    <tr style=\"text-align: right;\">\n",
       "      <th></th>\n",
       "      <th>0</th>\n",
       "      <th>1</th>\n",
       "      <th>2</th>\n",
       "      <th>3</th>\n",
       "      <th>4</th>\n",
       "    </tr>\n",
       "  </thead>\n",
       "  <tbody>\n",
       "    <tr>\n",
       "      <th>0</th>\n",
       "      <td>0.316279</td>\n",
       "      <td>0.497797</td>\n",
       "      <td>0.002711</td>\n",
       "      <td>0.000029</td>\n",
       "      <td>0.939228</td>\n",
       "    </tr>\n",
       "    <tr>\n",
       "      <th>1</th>\n",
       "      <td>0.361628</td>\n",
       "      <td>0.531278</td>\n",
       "      <td>0.002723</td>\n",
       "      <td>0.000031</td>\n",
       "      <td>0.939714</td>\n",
       "    </tr>\n",
       "    <tr>\n",
       "      <th>2</th>\n",
       "      <td>0.237209</td>\n",
       "      <td>0.338326</td>\n",
       "      <td>0.000126</td>\n",
       "      <td>0.000004</td>\n",
       "      <td>0.182217</td>\n",
       "    </tr>\n",
       "    <tr>\n",
       "      <th>3</th>\n",
       "      <td>0.688372</td>\n",
       "      <td>0.907489</td>\n",
       "      <td>0.002688</td>\n",
       "      <td>0.000031</td>\n",
       "      <td>0.917897</td>\n",
       "    </tr>\n",
       "    <tr>\n",
       "      <th>4</th>\n",
       "      <td>0.696512</td>\n",
       "      <td>0.911894</td>\n",
       "      <td>0.002700</td>\n",
       "      <td>0.000032</td>\n",
       "      <td>0.897532</td>\n",
       "    </tr>\n",
       "    <tr>\n",
       "      <th>...</th>\n",
       "      <td>...</td>\n",
       "      <td>...</td>\n",
       "      <td>...</td>\n",
       "      <td>...</td>\n",
       "      <td>...</td>\n",
       "    </tr>\n",
       "    <tr>\n",
       "      <th>12584</th>\n",
       "      <td>0.646512</td>\n",
       "      <td>0.651101</td>\n",
       "      <td>0.000181</td>\n",
       "      <td>0.000003</td>\n",
       "      <td>0.205809</td>\n",
       "    </tr>\n",
       "    <tr>\n",
       "      <th>12585</th>\n",
       "      <td>0.652326</td>\n",
       "      <td>0.618502</td>\n",
       "      <td>0.000205</td>\n",
       "      <td>0.000003</td>\n",
       "      <td>0.196405</td>\n",
       "    </tr>\n",
       "    <tr>\n",
       "      <th>12586</th>\n",
       "      <td>0.702326</td>\n",
       "      <td>0.697797</td>\n",
       "      <td>0.000162</td>\n",
       "      <td>0.000004</td>\n",
       "      <td>0.188072</td>\n",
       "    </tr>\n",
       "    <tr>\n",
       "      <th>12587</th>\n",
       "      <td>0.613953</td>\n",
       "      <td>0.644934</td>\n",
       "      <td>0.000214</td>\n",
       "      <td>0.000004</td>\n",
       "      <td>0.196757</td>\n",
       "    </tr>\n",
       "    <tr>\n",
       "      <th>12588</th>\n",
       "      <td>0.629070</td>\n",
       "      <td>0.673128</td>\n",
       "      <td>0.000153</td>\n",
       "      <td>0.000004</td>\n",
       "      <td>0.158583</td>\n",
       "    </tr>\n",
       "  </tbody>\n",
       "</table>\n",
       "<p>12589 rows × 5 columns</p>\n",
       "</div>"
      ],
      "text/plain": [
       "              0         1         2         3         4\n",
       "0      0.316279  0.497797  0.002711  0.000029  0.939228\n",
       "1      0.361628  0.531278  0.002723  0.000031  0.939714\n",
       "2      0.237209  0.338326  0.000126  0.000004  0.182217\n",
       "3      0.688372  0.907489  0.002688  0.000031  0.917897\n",
       "4      0.696512  0.911894  0.002700  0.000032  0.897532\n",
       "...         ...       ...       ...       ...       ...\n",
       "12584  0.646512  0.651101  0.000181  0.000003  0.205809\n",
       "12585  0.652326  0.618502  0.000205  0.000003  0.196405\n",
       "12586  0.702326  0.697797  0.000162  0.000004  0.188072\n",
       "12587  0.613953  0.644934  0.000214  0.000004  0.196757\n",
       "12588  0.629070  0.673128  0.000153  0.000004  0.158583\n",
       "\n",
       "[12589 rows x 5 columns]"
      ]
     },
     "execution_count": 8,
     "metadata": {},
     "output_type": "execute_result"
    }
   ],
   "source": [
    "# Show scaled feature matrix\n",
    "assignment.show_scaled()"
   ]
  },
  {
   "cell_type": "markdown",
   "metadata": {},
   "source": [
    "Running the function below plots the benign and unknown data in both unscaled and scaled form.\n",
    "\n",
    "**NB**: The plot shows the features of each flow compressed to a 2D space using [PCA](https://en.wikipedia.org/wiki/Principal_component_analysis). Therefore, if you have more than 2 features, these plots will show all the features \"compressed\" into a 2D mapping."
   ]
  },
  {
   "cell_type": "code",
   "execution_count": 9,
   "metadata": {},
   "outputs": [
    {
     "data": {
      "image/png": "[encoded data removed]",
      "text/plain": [
       "<Figure size 864x576 with 4 Axes>"
      ]
     },
     "metadata": {
      "needs_background": "light"
     },
     "output_type": "display_data"
    }
   ],
   "source": [
    "# Plots unscaled and scaled features\n",
    "assignment.plot_scaled()"
   ]
  },
  {
   "cell_type": "markdown",
   "metadata": {},
   "source": [
    "**Question 2.2.** Look at the above plots, the left plots show the unscaled features and the right plots show the scaled features. As we can see, the scaled features are separated better then the unscaled features. However, are all applications seperated properly? If you see some overlap, is this something you could explain or do you need to choose different features?\n",
    "\n",
    "**NB:** Note that some overlap might be caused by the dimentionality reduction from the PCA in the plotting method. However, this will very likely result in clusters being very close together, but will likely not result in a *complete* overlap."
   ]
  },
  {
   "cell_type": "code",
   "execution_count": null,
   "metadata": {},
   "outputs": [],
   "source": []
  },
  {
   "cell_type": "markdown",
   "metadata": {},
   "source": [
    "## 3. Model/Parameter selection\n",
    "Currently we have a scaled matrix where each row contains a data sample, and each column a feature. Now that we have prepared the features that we feed into our NIDS, we have to choose an anomaly detection algorithm to observe new behaviour. Given that we only have access to benign data and unknown data, we cannot train a classifier. Therefore, we need to train a novelty/outlier detection algorithm. In this assignment we will use a One-Class SVM.\n",
    "\n",
    "As you have learned during the lecture, a One-Class SVM uses a kernel function K to define the geometric relationship between a feature vector X and the support vectors Y. For an RBF (Gaussian) kernel, this relationship is defined as:\n",
    "\n",
    "$$K(X, Y) = e^{-\\frac{||x - y||^2}{2\\sigma^2}}$$\n",
    "\n",
    "**Question 3.1.** Implement the RBF kernel function."
   ]
  },
  {
   "cell_type": "code",
   "execution_count": 10,
   "metadata": {},
   "outputs": [],
   "source": [
    "def K(X, Y, sigma=1):\n",
    "    # The code between this text should be implemented\n",
    "    difference = X-Y\n",
    "    sum_sq = np.dot(difference.T, difference)\n",
    "    kernel=(-1)*sum_sq/(2*pow(sigma,2))\n",
    "    return np.exp(kernel)\n",
    "    # The code between this text should be implemented"
   ]
  },
  {
   "cell_type": "markdown",
   "metadata": {},
   "source": [
    "A support vector machine (SVM) uses its kernel function to compute a score between a feature vector $X$ and support vector $Y$. You can think of the score as the likelihood **(note that it is not a probability)** that $X$ and $Y$ originate from the same underlying distribution. Because an SVM contains multiple support vectors $Y_i$, we can assign a score to feature vector $X$ based on the likelihood that it shares the same underlying distribution with any of our support vectors $Y_i \\in Y$. We compute this overall score by simply adding the (weighted) scores for $X$ with each support vector $Y_i$, which is called the soft score:\n",
    "\n",
    "$$\\text{soft score} = \\sum_{i=0}^N w_iK(X, Y_i) \\leq \\tau$$\n",
    "\n",
    "We compare this soft score with a threshold $\\tau$ to determine if a point falls within or outside of our model. The assignment automatically computes the soft score with all weights as 1 for all given points $X$, support vectors $Y$ and your implemented kernel $K$.\n",
    "\n",
    "We show the influence of different kernel values on the decision function for random support vectors and datapoints. All datapoints that appear in the red area are considered to fall within the soft hypersphere. All datapoints outside the area are considered anomalous. We see that the sigma changes the shape of the hypershpere and the threshold changes the volume while preserving the shape."
   ]
  },
  {
   "cell_type": "code",
   "execution_count": 11,
   "metadata": {},
   "outputs": [
    {
     "data": {
      "image/png": "[encoded data removed]",
      "text/plain": [
       "<Figure size 1080x720 with 9 Axes>"
      ]
     },
     "metadata": {
      "needs_background": "light"
     },
     "output_type": "display_data"
    }
   ],
   "source": [
    "# Plots random kernels and shows the spheres produced by your kernel\n",
    "assignment.plot_kernels(K, sigmas=[1, 2, 3], thresholds=[3, 2, 1])"
   ]
  },
  {
   "cell_type": "markdown",
   "metadata": {},
   "source": [
    "Later in this assignment, we will use the `OneClassSVM` implementation from the `scikit-learn` library. This implementation automatically choses optimal values for the weights $w_i$ and threshold $\\tau$. However, we can still set two values to influence this decision: `gamma` and `nu`. The `gamma` value determines the size of the kernel, similar to the value of $\\sigma$. Additionally, the `nu` value sets an upper bound on the fraction of training errors and a lower bound of the fraction of support vectors. We recall from the lecture that we want to minimize the threshold $\\tau$. The `nu` value allows us to adjust the number of support vectors as well as set the allowed number of errors the OneClassSVM can make during training while keeping the $\\tau$ value minimal."
   ]
  },
  {
   "cell_type": "markdown",
   "metadata": {},
   "source": [
    "## 4. Evaluation\n",
    "\n",
    "Now that we have taken a closer look at One-Class SVMs, we have to think about how we can train, test and evaluate the model. We do this to get an idea of how well the NIDS will perform in a real-world scenario, which allows us to optimise its parameters before deployment and classification of the unknown data. In order to evaluate our model, we require labelled data, i.e. data from the `benign.csv` file. Given that all data is benign, it might seem difficult to assess whether there are malicious network connections. However, we can think of ways to redefine our problem such that we can only use benign data in order to train and test the NIDS.\n",
    "\n",
    "All data in the `benign.csv` file is labelled with the corresponding application that produced the data. We know that a malicious program is just another application that we have not seen in our benign data. We will leverage this observation to train and test our model.\n",
    "\n",
    "To this end, we randomly select a couple of applications that we leave out of the training data and only use for the test dataset. These applications simulate the 'unknown' apps or malware that we might encounter in the `unknown.csv` dataset. All other applications will be present in both the train and test set. However, for these applications, we still need to select a portion of the data that we use in the test set, and a portion of the data that we use in the train set. We can define this portion with a `ratio`.\n",
    "\n",
    "As an example, consider a dataset of 5 applications: $Apps = [\\text{Firefox}, \\text{Word}, \\text{Git}, \\text{Excel}, \\text{Outlook}]$. Now we randomly select $[\\text{Firefox}, \\text{Excel}]$ to be our apps for the testing set, meaning $[\\text{Word}, \\text{Git}, \\text{Outlook}]$ are the apps present in both the train and test datasets. Next we define our `ratio` for training items as `0.75`. This means that we select 75% of the flows from $[\\text{Word}, \\text{Git}, \\text{Outlook}]$ as our train data and add the remaining 25% of flows to the test dataset.\n",
    "\n",
    "_Hint: we round the ratio if it does not split properly_\n",
    "\n",
    "Therefore, if we have the following input:\n",
    "\n",
    "**Apps train:** $[\\text{Word}, \\text{Git}, \\text{Outlook}]$ <br>\n",
    "**Apps test:** $[\\text{Firefox}, \\text{Excel}]$ <br>\n",
    "**Ratio:** 0.75 <br>\n",
    "\n",
    "We will get the following split:\n",
    "\n",
    "<div style=\"-webkit-column-count: 3; -moz-column-count: 3; column-count: 3; -webkit-column-rule: 1px dotted #e0e0e0; -moz-column-rule: 1px dotted #e0e0e0; column-rule: 1px dotted #e0e0e0; text-align: center;\">\n",
    "    <div style=\"display: inline-block;\">\n",
    "<h3 style=\"text-align: center;\">&nbsp;&nbsp;&nbsp;&nbsp;&nbsp;&nbsp;&nbsp;&nbsp;Original data and Labels</h3>\n",
    "        \n",
    "|  Label  | feature 1 | feature 2 | ... | feature n |\n",
    "|:-------:|:---------:|:---------:|:---:|:---------:|\n",
    "| Firefox | value     | value     | ... | value     |\n",
    "| Firefox | value     | value     | ... | value     |\n",
    "| Word    | value     | value     | ... | value     |\n",
    "| Word    | value     | value     | ... | value     |\n",
    "| Word    | value     | value     | ... | value     |\n",
    "| Git     | value     | value     | ... | value     |\n",
    "| Git     | value     | value     | ... | value     |\n",
    "| Excel   | value     | value     | ... | value     |\n",
    "| Excel   | value     | value     | ... | value     |\n",
    "| Excel   | value     | value     | ... | value     |\n",
    "| Excel   | value     | value     | ... | value     |\n",
    "| Outlook | value     | value     | ... | value     |\n",
    "| Outlook | value     | value     | ... | value     |\n",
    "| Outlook | value     | value     | ... | value     |\n",
    "| Outlook | value     | value     | ... | value     |\n",
    "         \n",
    "</div>\n",
    "<div style=\"display: inline-block;\">\n",
    "<h3 style=\"text-align: center;\">&nbsp;&nbsp;&nbsp;&nbsp;&nbsp;&nbsp;&nbsp;&nbsp;Train set</h3>\n",
    "        \n",
    "|  Label  | feature 1 | feature 2 | ... | feature n |\n",
    "|:-------:|:---------:|:---------:|:---:|:---------:|\n",
    "| Word    | value     | value     | ... | value     |\n",
    "| Word    | value     | value     | ... | value     |\n",
    "| Git     | value     | value     | ... | value     |\n",
    "| Outlook | value     | value     | ... | value     |\n",
    "| Outlook | value     | value     | ... | value     |\n",
    "| Outlook | value     | value     | ... | value     |\n",
    "        \n",
    "</div>\n",
    "<div style=\"display: inline-block;\">\n",
    "<h3 style=\"text-align: center;\">&nbsp;&nbsp;&nbsp;&nbsp;&nbsp;&nbsp;&nbsp;&nbsp;Test set</h3>\n",
    "\n",
    "|  Label  | feature 1 | feature 2 | ... | feature n |\n",
    "|:-------:|:---------:|:---------:|:---:|:---------:|\n",
    "| Firefox | value     | value     | ... | value     |\n",
    "| Firefox | value     | value     | ... | value     |\n",
    "| Word    | value     | value     | ... | value     |\n",
    "| Git     | value     | value     | ... | value     |\n",
    "| Excel   | value     | value     | ... | value     |\n",
    "| Excel   | value     | value     | ... | value     |\n",
    "| Excel   | value     | value     | ... | value     |\n",
    "| Excel   | value     | value     | ... | value     |\n",
    "| Outlook | value     | value     | ... | value     |\n",
    "        \n",
    "</div>\n",
    "</div>\n",
    "\n",
    "**Question 4.1.** Implement the function `split()` that implements the split technique described above."
   ]
  },
  {
   "cell_type": "code",
   "execution_count": 49,
   "metadata": {},
   "outputs": [],
   "source": [
    "def split(data, labels, apps_train, apps_test, ratio):\n",
    "    \n",
    "    # The code between this text should be implemented\n",
    "#     list(zip(labels,data)).copy()   \n",
    "    dfs_train = []\n",
    "    dfs_train_rest = []\n",
    "    dfs_test = []\n",
    "    df = pd.DataFrame(data).copy()\n",
    "    df['Label'] = labels\n",
    "\n",
    "    for l in set(labels): \n",
    "        if l not in apps_test :\n",
    "            df_train = df[df.Label == l]      \n",
    "            split_point = round(df_train.shape[0]*ratio)        \n",
    "            dfs_train.append(df_train.iloc[:split_point])\n",
    "            dfs_train_rest.append(df_train.iloc[split_point:])\n",
    "        else :\n",
    "            df_test = df[df.Label == l]  \n",
    "            dfs_test.append(df_test)\n",
    "    dfs_test.extend(dfs_train_rest)\n",
    "    x_train = pd.concat(dfs_train).copy()\n",
    "    x_test = pd.concat(dfs_test).copy()\n",
    "    y_train = x_train['Label']   \n",
    "    y_test = x_test['Label']\n",
    "    x_train = x_train.drop(columns = 'Label').to_numpy()\n",
    "    x_test = x_test.drop(columns = 'Label').to_numpy()\n",
    "    print(int(0.8))\n",
    "   \n",
    "    return x_train, y_train,x_test,y_test\n",
    "# Sets split method\n",
    "assignment.split = split"
   ]
  },
  {
   "cell_type": "markdown",
   "metadata": {},
   "source": [
    "You can use the code below to test your implementation of `split()` for several test cases, set variable `verbose = True` to print each test case."
   ]
  },
  {
   "cell_type": "code",
   "execution_count": 50,
   "metadata": {},
   "outputs": [
    {
     "name": "stdout",
     "output_type": "stream",
     "text": [
      "0\n",
      "0\n",
      "0\n",
      "0\n"
     ]
    },
    {
     "ename": "ValueError",
     "evalue": "Number of training datapoints should be '11330', but was '11331'. Hint: if you are off by 1, try to round the ratio instead of taking the floor or ceiling value.",
     "output_type": "error",
     "traceback": [
      "\u001b[1;31m---------------------------------------------------------------------------\u001b[0m",
      "\u001b[1;31mValueError\u001b[0m                                Traceback (most recent call last)",
      "\u001b[1;32m<ipython-input-50-d7fdf8df558e>\u001b[0m in \u001b[0;36m<module>\u001b[1;34m\u001b[0m\n\u001b[0;32m      1\u001b[0m \u001b[1;31m# Tests split method\u001b[0m\u001b[1;33m\u001b[0m\u001b[1;33m\u001b[0m\u001b[1;33m\u001b[0m\u001b[0m\n\u001b[1;32m----> 2\u001b[1;33m \u001b[0massignment\u001b[0m\u001b[1;33m.\u001b[0m\u001b[0mtest_split\u001b[0m\u001b[1;33m(\u001b[0m\u001b[0mverbose\u001b[0m\u001b[1;33m=\u001b[0m\u001b[1;32mFalse\u001b[0m\u001b[1;33m)\u001b[0m\u001b[1;33m\u001b[0m\u001b[1;33m\u001b[0m\u001b[0m\n\u001b[0m",
      "\u001b[1;32m~\\week6-liping\\ml4sec\\split.py\u001b[0m in \u001b[0;36mtest_split\u001b[1;34m(self, verbose)\u001b[0m\n\u001b[0;32m    160\u001b[0m \u001b[1;33m\u001b[0m\u001b[0m\n\u001b[0;32m    161\u001b[0m         \u001b[1;31m# Test results\u001b[0m\u001b[1;33m\u001b[0m\u001b[1;33m\u001b[0m\u001b[1;33m\u001b[0m\u001b[0m\n\u001b[1;32m--> 162\u001b[1;33m         self.assert_split(\n\u001b[0m\u001b[0;32m    163\u001b[0m             \u001b[0moriginal_data\u001b[0m          \u001b[1;33m=\u001b[0m \u001b[0mdata\u001b[0m\u001b[1;33m,\u001b[0m\u001b[1;33m\u001b[0m\u001b[1;33m\u001b[0m\u001b[0m\n\u001b[0;32m    164\u001b[0m             \u001b[0moriginal_labels\u001b[0m        \u001b[1;33m=\u001b[0m \u001b[0mlabels\u001b[0m\u001b[1;33m,\u001b[0m\u001b[1;33m\u001b[0m\u001b[1;33m\u001b[0m\u001b[0m\n",
      "\u001b[1;32m~\\week6-liping\\ml4sec\\split.py\u001b[0m in \u001b[0;36massert_split\u001b[1;34m(self, original_data, original_labels, data_train, labels_train, data_test, labels_test, expected_samples_train, apps_test)\u001b[0m\n\u001b[0;32m    260\u001b[0m     \u001b[1;31m# Check if number of train datapoints is expected\u001b[0m\u001b[1;33m\u001b[0m\u001b[1;33m\u001b[0m\u001b[1;33m\u001b[0m\u001b[0m\n\u001b[0;32m    261\u001b[0m     \u001b[1;32mif\u001b[0m \u001b[0mdata_train\u001b[0m\u001b[1;33m.\u001b[0m\u001b[0mshape\u001b[0m\u001b[1;33m[\u001b[0m\u001b[1;36m0\u001b[0m\u001b[1;33m]\u001b[0m \u001b[1;33m!=\u001b[0m \u001b[0mexpected_samples_train\u001b[0m\u001b[1;33m:\u001b[0m\u001b[1;33m\u001b[0m\u001b[1;33m\u001b[0m\u001b[0m\n\u001b[1;32m--> 262\u001b[1;33m         raise ValueError(\n\u001b[0m\u001b[0;32m    263\u001b[0m             \u001b[1;34m\"Number of training datapoints should be '{}', but was '{}'. Hint: \"\u001b[0m\u001b[1;33m\u001b[0m\u001b[1;33m\u001b[0m\u001b[0m\n\u001b[0;32m    264\u001b[0m             \u001b[1;34m\"if you are off by 1, try to round the ratio instead of taking the \"\u001b[0m\u001b[1;33m\u001b[0m\u001b[1;33m\u001b[0m\u001b[0m\n",
      "\u001b[1;31mValueError\u001b[0m: Number of training datapoints should be '11330', but was '11331'. Hint: if you are off by 1, try to round the ratio instead of taking the floor or ceiling value."
     ]
    }
   ],
   "source": [
    "# Tests split method\n",
    "assignment.test_split(verbose=False)"
   ]
  },
  {
   "cell_type": "markdown",
   "metadata": {},
   "source": [
    "The following code uses your `split()` method to obtain the train and test split for the data in `benign.csv`.\n",
    "\n",
    "**Important**: Note that the labels for this split are integers that are `+1` if the corresponding application is in the training data or `-1` if the corresponding application is not in the training data. We will use this to determine whether our NIDS can correctly determine whether apps are present in the training set (`+1`, benign) or whether they are not present in the training set (`-1`, malicious)."
   ]
  },
  {
   "cell_type": "code",
   "execution_count": null,
   "metadata": {},
   "outputs": [],
   "source": [
    "# Gets training and testing data\n",
    "X_train, y_train, X_test, y_test = assignment.get_split(\n",
    "    \n",
    "        # Select the apps used for training, the rest will be used for testing\n",
    "        apps_train = [\n",
    "            'IntelliJ',\n",
    "            'PowerPoint',\n",
    "            'Thunderbird',\n",
    "            'Web Server',\n",
    "            'Chrome',\n",
    "            'Word',\n",
    "            'Mail Server',\n",
    "            'Anti Virus',\n",
    "            'Outlook',\n",
    "            'DNS Server',\n",
    "        ],\n",
    "    \n",
    "    \n",
    "        # Select the ratio of flows from training apps used for training\n",
    "        ratio     = 0.75,\n",
    ")\n",
    "\n",
    "# Prints overview of data\n",
    "print(\n",
    "\"\"\"\n",
    "Your data is structured as follows:\n",
    "-----------------------------------\n",
    "Train data   (X_train): np.array of shape={}\n",
    "Train labels (y_train): np.array of shape={}\n",
    "Test  data   (X_test ): np.array of shape={}\n",
    "Test  labels (y_test ): np.array of shape={}\n",
    "\"\"\".format(X_train.shape, y_train.shape, X_test.shape, y_test.shape)\n",
    ")"
   ]
  },
  {
   "cell_type": "markdown",
   "metadata": {},
   "source": [
    "Now that we have split our data into training and testing sets with the corresponding labels, we want to compute some metrics over a prediction. We recall from the lecture that most metrics are based on the True Positive (TP), False Positive (FP), True Negative (TN) and False Negative values (FN).\n",
    "\n",
    " * True Positives (TP), the amount of samples predicted as *unknown* (-1), that should be labelled as *unknown* (-1).\n",
    " * True Negatives (TN), the amount of samples predicted as *known* (+1), that should be labelled as *known* (+1).\n",
    " * False Positives (FP), the amount of samples predicted as *unknown* (-1), that should be labelled as *known* (+1).\n",
    " * False Negatives (FN), the amount of samples predicted as *known* (+1), that should be labelled as *unknown* (-1).\n",
    " \n",
    "Or in a diagram:\n",
    "\n",
    "| $ $                | Actual Unknown      | Actual Known        |\n",
    "|--------------------|---------------------|---------------------|\n",
    "| Predicted Unknown  | True Positive (TP)  | False Positive (FP) |\n",
    "| Predicted Known    | False Negative (FN) | True Negative (TN)  |\n",
    "\n",
    "**Question 4.2.** Given these definitions of TP, TN, FP, FN, implement the methods that compute each value given the predictions (`y_pred`) and actual labels (`y_true`)."
   ]
  },
  {
   "cell_type": "code",
   "execution_count": 111,
   "metadata": {},
   "outputs": [],
   "source": [
    "def TP(y_true, y_pred):\n",
    "    # The code between this text should be implemented\n",
    "    count = 0\n",
    "    for y_t,y_p in zip(y_true,y_pred):\n",
    "        if y_t == y_p and y_t == -1:\n",
    "            count += 1\n",
    "    return count\n",
    "    # The code between this text should be implemented\n",
    "    \n",
    "def TN(y_true, y_pred):\n",
    "    # The code between this text should be implemented\n",
    "    count = 0\n",
    "    for y_t,y_p in zip(y_true,y_pred):\n",
    "        if y_t == y_p and y_t == +1:\n",
    "            count += 1\n",
    "    return count\n",
    "    # The code between this text should be implemented\n",
    "    \n",
    "def FP(y_true, y_pred):\n",
    "    # The code between this text should be implemented\n",
    "    count = 0\n",
    "    for y_t,y_p in zip(y_true,y_pred):\n",
    "        if y_t == +1 and y_p == -1:\n",
    "            count += 1\n",
    "    return count\n",
    "    # The code between this text should be implemented\n",
    "    \n",
    "def FN(y_true, y_pred):\n",
    "    # The code between this text should be implemented\n",
    "    count = 0\n",
    "    for y_t,y_p in zip(y_true,y_pred):\n",
    "        if y_p == +1 and y_t == -1:\n",
    "            count += 1\n",
    "    return count\n",
    "    # The code between this text should be implemented\n",
    "    \n",
    "# Sets True/False Positive/Negative methods\n",
    "assignment.TP = TP\n",
    "assignment.TN = TN\n",
    "assignment.FP = FP\n",
    "assignment.FN = FN"
   ]
  },
  {
   "cell_type": "markdown",
   "metadata": {},
   "source": [
    "You can use the code below to test your implementations for the True/False Positive/Negative values for several test cases, set variable `verbose = True` to print each test case."
   ]
  },
  {
   "cell_type": "code",
   "execution_count": 112,
   "metadata": {},
   "outputs": [
    {
     "name": "stdout",
     "output_type": "stream",
     "text": [
      "All test cases passed.\n"
     ]
    }
   ],
   "source": [
    "# Tests your implementation of True/False Positive/Negative values\n",
    "assignment.test_metrics(verbose=False)"
   ]
  },
  {
   "cell_type": "markdown",
   "metadata": {},
   "source": [
    "We use your implementation provided above to compute several performance metrics. There are various metrics that are used widely in the evaluation of machine learning techniques. We recall 5 of these from the lecture:\n",
    "\n",
    "The True Positive Rate (TPR), also called sensitivity, measures the proportion of actual positives that are correctly identified as such.\n",
    "$$\\text{TPR} = \\frac{\\text{TP}}{\\text{TP}+\\text{FN}} = 1-\\text{FNR}$$\n",
    "\n",
    "The True Negative Rate (TNR), also called specificity, measures the proportion of actual negatives that are correctly identified as such.\n",
    "$$\\text{TNR} = \\frac{\\text{TN}}{\\text{TN}+\\text{FP}} = 1-\\text{FPR}$$\n",
    "\n",
    "The False Positive Rate (FPR), measures the proportion of actual negatives that are identified as positives. If a NIDS has a high FPR, it will not find malicious software, making it useless.\n",
    "$$\\text{FPR} = \\frac{\\text{FP}}{\\text{TN}+\\text{FP}} = 1-\\text{TNR}$$\n",
    "\n",
    "The False Negative Rate (FNR), measures the proportion of actual positives that are identified as negatives. If a NIDS has a high FNR, it will raise alarms for benign network traffic, causing a lot of frustration for the people on the network.\n",
    "$$\\text{FNR} = \\frac{\\text{FN}}{\\text{TP}+\\text{FN}} = 1-\\text{TPR}$$\n",
    "\n",
    "The Accuracy (ACC) combines the TPR and FPR to get a complete overview of the system performance. An accuracy of 1.0 means everything is correctly classified. An accuracy of 0.0 means nothing is correctly classified.\n",
    "$$\\text{ACC} = \\frac{\\text{TP}+\\text{TN}}{\\text{TP}+\\text{TN}+\\text{FP}+\\text{FN}}$$\n",
    "\n",
    "Additionally, you will also often encounter the [Precision, recall](https://en.wikipedia.org/wiki/Precision_and_recall) and [F1-score](https://en.wikipedia.org/wiki/F-score). The precision gives the ratio of 'how many selected items are relevant' and the recall gives the ratio of 'how many relevant items are selected'. The F1-score gives the harmonic mean between precision and recall and is often used in place of the accuracy. For reference, the formulas for all three metrics are given below.\n",
    "\n",
    "$$\\text{Precision} = \\frac{\\text{TP}}{\\text{TP}+\\text{FP}}$$\n",
    "\n",
    "$$\\text{Recall} = \\text{TPR} = \\frac{\\text{TP}}{\\text{TP}+\\text{FN}}$$\n",
    "\n",
    "$$\\text{F1-score} = 2 \\cdot \\frac{\\text{Precision} \\cdot \\text{Recall}}{\\text{Precision} + \\text{Recall}} = \\frac{2 \\text{TP}}{2 \\text{TP} + \\text{FP} + \\text{FN}}$$\n",
    "\n",
    "We compute these metrics based on your True Positive, True Negative, False Positive, and False Negative implementations."
   ]
  },
  {
   "cell_type": "markdown",
   "metadata": {},
   "source": [
    "## 5. Classifier\n",
    "Now that we have prepared the data and implemented some of the evaluation metrics, we are ready to create our Network Intrusion Detection System (NIDS). To this end, we will use the [OneClassSVM](https://scikit-learn.org/stable/modules/generated/sklearn.svm.OneClassSVM.html) implementation from the scikit-learn library. This model uses the `fit()` method with train data of known classes to learn its model. Subsequently it will use the method `predict()` with test data as +1 if they fit the known model, or -1 if they are considered anomalous.\n",
    "\n",
    "**Question 5.1.** We import the One-class SVM from [Scikit-Learn - OneClassSVM](https://scikit-learn.org/stable/modules/generated/sklearn.svm.OneClassSVM.html). Given this class, initialize it with different parameters and run the subsequent code to fit and predict our training and testing data. Try to get the best performance by adjusting the `kernel`, `gamma` and `nu` values.\n",
    "\n",
    "**NB**: The OneClassSVM implementation of scikit-learn uses the `gamma` parameter for the RBF kernel, which in this library is defined as $\\gamma = \\frac{1}{2\\sigma^2}$. This changes the kernel function from\n",
    "$K(X, Y) = e^{-\\frac{||x - y||^2}{2\\sigma^2}}$ to $K(X, Y) = e^{-\\gamma||x - y||^2}$.\n",
    "\n",
    "_Hint 1: You may notice the performance is not that good. If that is the case, go back to the `assignment.get_split()` method and change the parameters with different values for `ratio` and `apps_train`._\n",
    "\n",
    "_Hint 2: From your answer at question 2.2, you should be able to explain why some combinations of training versus test app combinations give bad results._"
   ]
  },
  {
   "cell_type": "code",
   "execution_count": 113,
   "metadata": {},
   "outputs": [
    {
     "ename": "NameError",
     "evalue": "name 'X_train' is not defined",
     "output_type": "error",
     "traceback": [
      "\u001b[1;31m---------------------------------------------------------------------------\u001b[0m",
      "\u001b[1;31mNameError\u001b[0m                                 Traceback (most recent call last)",
      "\u001b[1;32m<ipython-input-113-7bac61c57bdb>\u001b[0m in \u001b[0;36m<module>\u001b[1;34m\u001b[0m\n\u001b[0;32m     11\u001b[0m \u001b[1;33m\u001b[0m\u001b[0m\n\u001b[0;32m     12\u001b[0m \u001b[1;31m# This code fits the NIDS using the training data X_train\u001b[0m\u001b[1;33m\u001b[0m\u001b[1;33m\u001b[0m\u001b[1;33m\u001b[0m\u001b[0m\n\u001b[1;32m---> 13\u001b[1;33m \u001b[0massignment\u001b[0m\u001b[1;33m.\u001b[0m\u001b[0mNIDS\u001b[0m\u001b[1;33m.\u001b[0m\u001b[0mfit\u001b[0m\u001b[1;33m(\u001b[0m\u001b[0mX_train\u001b[0m\u001b[1;33m)\u001b[0m\u001b[1;33m\u001b[0m\u001b[1;33m\u001b[0m\u001b[0m\n\u001b[0m\u001b[0;32m     14\u001b[0m \u001b[1;31m# This code lets the NIDS predict the test data X_test\u001b[0m\u001b[1;33m\u001b[0m\u001b[1;33m\u001b[0m\u001b[1;33m\u001b[0m\u001b[0m\n\u001b[0;32m     15\u001b[0m \u001b[0my_pred\u001b[0m \u001b[1;33m=\u001b[0m \u001b[0massignment\u001b[0m\u001b[1;33m.\u001b[0m\u001b[0mNIDS\u001b[0m\u001b[1;33m.\u001b[0m\u001b[0mpredict\u001b[0m\u001b[1;33m(\u001b[0m\u001b[0mX_test\u001b[0m\u001b[1;33m)\u001b[0m\u001b[1;33m\u001b[0m\u001b[1;33m\u001b[0m\u001b[0m\n",
      "\u001b[1;31mNameError\u001b[0m: name 'X_train' is not defined"
     ]
    }
   ],
   "source": [
    "from sklearn.svm import OneClassSVM\n",
    "\n",
    "assignment.NIDS = OneClassSVM(\n",
    "    # The code between this text should be implemented \n",
    "    kernel = \"rbf\",\n",
    "    gamma  = 0.1,\n",
    "    nu     = 0.1,\n",
    "    # The code between this text should be implemented\n",
    ")\n",
    "\n",
    "\n",
    "# This code fits the NIDS using the training data X_train\n",
    "assignment.NIDS.fit(X_train)\n",
    "# This code lets the NIDS predict the test data X_test\n",
    "y_pred = assignment.NIDS.predict(X_test)\n",
    "\n",
    "# We evaluate the prediction y_pred and compare it with the actual values y_test\n",
    "assignment.prediction_report(y_test, y_pred)"
   ]
  },
  {
   "cell_type": "markdown",
   "metadata": {},
   "source": [
    "## 6. Submission\n",
    "If you played around with different combinations of training and testing data and selected good parameter values for your OneClassSVM, you can submit your assignment which will be evaluated on the `data/unknown.csv` data. Please fill out your `student_number` and `highscore_name`. To pass you will need to achieve an Accuracy $\\geq$ 0.9 and a False Positive Rate of $\\leq$ 0.05. \n",
    "\n",
    "_Hint: If you cannot seem to get a good performance, perhaps the features that you have chosen for your NIDS in the `extract()` method need to be improved, or the model parameters that you have chosen for the `OneClassSVM` are not suitable for the NIDS_\n",
    "\n",
    "**Important notices:**\n",
    " 1. The `submit` function evaluates the performance of your NIDS on the `data/unknown.csv` data. Note that this dataset is different from the data you tested with in question 5.1. Therefore, the performance of your NIDS may differ. If you are unable to achieve a good performance, you may have overfitted your NIDS on the training data.\n",
    " 2. We store your submissions on our server and these values will be used to check if you passed the assignment or not. Therefore, make sure that you submit your prediction correctly using the `assignment.submit()` method. If any error occurs, the error message will be printed. If you are unable to fix these error messages, please contact the TA at [t.s.vanede@utwente.nl](mailto:t.s.vanede@utwente.nl).\n",
    " 3. The `assignment.submit()` method requires internet access.\n",
    " 4. This assignment is graded individually. Please use your actual student number, e.g. `s1234567` and only your own student number. We log each sign of misconduct.\n",
    " 5. If you want to participate in the highscores, please provide a `highscore_name`. If you **do not** want to participate in the highscores please set this field to `None`. You can check the highscores at [vm-thijs.ewi.utwente.nl/ml/](https://vm-thijs.ewi.utwente.nl/ml/)."
   ]
  },
  {
   "cell_type": "code",
   "execution_count": null,
   "metadata": {},
   "outputs": [],
   "source": [
    "# Fill in your credentials to submit the assignment.\n",
    "assignment.submit(\n",
    "    student_number = \"s2248719\",\n",
    "    highscore_name = \"Liping Yin\",\n",
    ")"
   ]
  },
  {
   "cell_type": "markdown",
   "metadata": {},
   "source": [
    "## 7. Optimisation (optional)\n",
    "If you passed the assignment, you can try to improve your performance by selecting different features and optimizing the `gamma` and `nu` values of your `OneClassSVM`. However, there are also other methods we can explore. Consider a benign application $B$ that only runs on our server with IP address `10.0.0.1`. We are able to detect this application in the network traffic using our previous NIDS. Now consider a malicious application $M$ that behaves very similar to application $B$, so much, that our NIDS would be unable to distinguish application $B$ from application $M$. As we have seen in question 2.2, this is something that will occur in practice.\n",
    "\n",
    "As a partial solution, we can try to create a more fine-grained NIDS that does not make a single model for all traffic on the network, but instead create a model **per device**. This way, if malicious application $M$ infects any of our desktop machines `10.0.0.2-4`, we would still be able to detect that there is a new application running. This solution is not full proof, because this new NIDS would still not be able to detect application $M$ on the server `10.0.0.1`. Nevertheless, it is a slight improvement on our original NIDS design.\n",
    "\n",
    "**Question 7.1. (optional)** Create the NIDS described above by implementing the DeviceNIDS class. This class should support the `fit(self, X)` and `predict(self, X)` methods that take a scaled feature matrix `X` to fit and predict, respectively."
   ]
  },
  {
   "cell_type": "code",
   "execution_count": null,
   "metadata": {},
   "outputs": [],
   "source": [
    "class DeviceNIDS(object):\n",
    "    \n",
    "    def __init__(self):\n",
    "        # The code between this text should be implemented\n",
    "        self.classifiers = {\n",
    "            '10.0.0.1': OneClassSVM(kernel=\"<your_kernel>\", gamma=\"<your_gamma>\", nu=\"<your_nu>\"),\n",
    "            '10.0.0.2': OneClassSVM(kernel=\"<your_kernel>\", gamma=\"<your_gamma>\", nu=\"<your_nu>\"),\n",
    "            '10.0.0.3': OneClassSVM(kernel=\"<your_kernel>\", gamma=\"<your_gamma>\", nu=\"<your_nu>\"),\n",
    "            '10.0.0.4': OneClassSVM(kernel=\"<your_kernel>\", gamma=\"<your_gamma>\", nu=\"<your_nu>\"),\n",
    "        }\n",
    "        # The code between this text should be implemented\n",
    "    \n",
    "    def fit(self, X):\n",
    "        # The code between this text should be implemented\n",
    "        pass\n",
    "        # The code between this text should be implemented\n",
    "    \n",
    "    def predict(self, X):\n",
    "        # The code between this text should be implemented\n",
    "        pass\n",
    "        # The code between this text should be implemented\n",
    "        \n",
    "    \n",
    "    \n",
    "# Set the NIDS to the newly implemented DeviceNIDS\n",
    "assignment.NIDS = DeviceNIDS()\n",
    "\n",
    "# Fill in your credentials to submit the assignment.\n",
    "assignment.submit(\n",
    "    student_number = \"<your_student_number>\",\n",
    "    highscore_name = \"<your_highscore_name>\",\n",
    ")"
   ]
  }
 ],
 "metadata": {
  "kernelspec": {
   "display_name": "Python 3",
   "language": "python",
   "name": "python3"
  },
  "language_info": {
   "codemirror_mode": {
    "name": "ipython",
    "version": 3
   },
   "file_extension": ".py",
   "mimetype": "text/x-python",
   "name": "python",
   "nbconvert_exporter": "python",
   "pygments_lexer": "ipython3",
   "version": "3.8.5"
  }
 },
 "nbformat": 4,
 "nbformat_minor": 4
}
