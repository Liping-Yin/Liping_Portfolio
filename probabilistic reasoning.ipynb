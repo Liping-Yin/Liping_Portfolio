{
 "cells": [
  {
   "cell_type": "markdown",
   "metadata": {},
   "source": [
    "# Week 3: Probabilistic Reasoning\n",
    "\n",
    "## Exercise 1: Balls and Urns\n",
    "\n",
    "In this exercise, we will reproduce the computations of this week's first lecture, and extend them to $n$ urns.\n",
    "\n",
    "First, we need to represent how many urns we have and how many balls of each type they contain.\n"
   ]
  },
  {
   "cell_type": "code",
   "execution_count": 10,
   "metadata": {},
   "outputs": [],
   "source": [
    "import numpy as np\n",
    "from scipy.stats import binom\n",
    "\n",
    "urns = np.array([[5,3],[3,5]])\n",
    "numUrns = urns.shape[0]\n",
    "priors = np.ones(numUrns) / numUrns\n"
   ]
  },
  {
   "cell_type": "markdown",
   "metadata": {},
   "source": [
    "As in the lecture, we will draw balls with replacement. The first thing to do is to be able to compute the probability of drawing $n$ white balls and $m$ blue balls, with replacement.\n",
    "\n",
    "**Question 1** Implement a function called \"likelihood\" which takes as parameters\n",
    "1. The index of the urn\n",
    "1. The number of white balls drawn\n",
    "1. The number of blue balls drawn\n",
    "    \n",
    "The distribution for this kind of observation is called the Binomial distribution. You can use the standard implementation of this distribution in the scipy.stats package for your implementation of this function."
   ]
  },
  {
   "cell_type": "code",
   "execution_count": 11,
   "metadata": {},
   "outputs": [
    {
     "name": "stdout",
     "output_type": "stream",
     "text": [
      "0.20599365234374997\n",
      "0.34332275390624994\n",
      "0.3662109375000001\n"
     ]
    }
   ],
   "source": [
    "# Your answer comes here\n",
    "def likelihood(urnIndex,whiteDraws,blueDraws):\n",
    "    whiteNum = urns[urnIndex,0]\n",
    "    blueNum = urns[urnIndex,1]\n",
    "    totalNum = whiteNum + blueNum\n",
    "    \n",
    "    p = whiteNum/totalNum\n",
    "    k = whiteDraws\n",
    "    n = whiteDraws+blueDraws    \n",
    "    \n",
    "    return binom.pmf(k,n,p)\n",
    "\n",
    "print(likelihood(1,3,2))\n",
    "print(likelihood(0,3,2))\n",
    "print(likelihood(1,1,3))"
   ]
  },
  {
   "cell_type": "markdown",
   "metadata": {},
   "source": [
    "Now, let us compute the posterior probability of having used the first urn given the observed number of white and blue balls. \n",
    "\n",
    "**Question 2** Implement a function called \"posterior\" which takes the same parameters as the \"likelihood\" function. Try to make your implementation work for any number of urns.\n",
    "\n",
    "What is the posterior probability of having picked urn 1 if we drew 3 white and 2 blue balls? What about 1 white and 3 blue balls?"
   ]
  },
  {
   "cell_type": "code",
   "execution_count": 12,
   "metadata": {},
   "outputs": [
    {
     "name": "stdout",
     "output_type": "stream",
     "text": [
      "0.625\n",
      "0.2647058823529412\n",
      "0.375\n"
     ]
    }
   ],
   "source": [
    "# Your answer comes here\n",
    "def posterior(urnIndex,whiteDraws,blueDraws):\n",
    "    \n",
    "    evidence = 0\n",
    "    count = 0\n",
    "    for p in priors:\n",
    "        evidence += p*likelihood(count,whiteDraws,blueDraws) \n",
    "        count += 1          \n",
    "    return priors[urnIndex]*likelihood(urnIndex,whiteDraws,blueDraws)/evidence   \n",
    "\n",
    "print(posterior(0,3,2))  # 0.625\n",
    "print(posterior(0,1,3))  \n",
    "print(posterior(1,3,2))  # 0.375\n",
    "\n"
   ]
  },
  {
   "cell_type": "markdown",
   "metadata": {},
   "source": [
    "## Exercise 2: Entering college\n",
    "\n",
    "Let's encode the probabilities of being smart, and an athlete and compute conditional probabilities. We're using the same probabilities as in the slides.\n"
   ]
  },
  {
   "cell_type": "code",
   "execution_count": 13,
   "metadata": {},
   "outputs": [],
   "source": [
    "pS = 0.4\n",
    "pA = 0.2\n",
    "pC_SA = np.array([[ 0.91, 0.9],[0.9, 0.04]])"
   ]
  },
  {
   "cell_type": "markdown",
   "metadata": {},
   "source": [
    "**Question 1** Implement a function that computes the joint probability of being smart (or not), entering college (or not) and being an athlete (or not). This functions takes three boolean parameters:\n",
    "1. s, indicating whether the person is smart (True) or not Falss\n",
    "1. c, indicating whether the person entered college\n",
    "1. a, indicating whether the person is an athlete\n"
   ]
  },
  {
   "cell_type": "code",
   "execution_count": 14,
   "metadata": {},
   "outputs": [],
   "source": [
    "# Your answer comes here\n",
    "def jointProb(s,c,a):\n",
    "    \n",
    "    result = 0\n",
    "    \n",
    "    if c :\n",
    "        if s  :\n",
    "            if a  :\n",
    "                result = pC_SA[0,0]*pS*pA # c,s,a\n",
    "            else :\n",
    "                result = pC_SA[0,1]*pS*(1-pA) # c,s, not a\n",
    "        else:\n",
    "            if a  :\n",
    "                result = pC_SA[1,0]*(1-pS)*pA # c,not s, a\n",
    "            else :\n",
    "                result = pC_SA[1,1]*(1-pS)*(1-pA) # c,not s, not a               \n",
    "         \n",
    "    else:\n",
    "        if s  :\n",
    "            if a :\n",
    "                result =(1 - pC_SA[0,0])*pS*pA # not c,s,a\n",
    "            else :\n",
    "                result =(1 - pC_SA[0,1])*pS*(1-pA) # not c, s, not a\n",
    "        else:\n",
    "            if a :\n",
    "                result =(1 - pC_SA[1,0])*(1-pS)*pA # not c,not s, a\n",
    "            else :\n",
    "                result =(1 - pC_SA[1,1])*(1-pS)*(1-pA) # not c, not s, not a\n",
    "        \n",
    "    return result \n",
    "\n",
    "# lowercase: True, uppercase: False\n",
    "psca = jointProb(True,True,True)\n",
    "pscA = jointProb(True,True,False)\n",
    "pSca = jointProb(False, True,True)\n",
    "pScA = jointProb(False,True,False)\n",
    "psCa = jointProb(True, False,True)\n",
    "    "
   ]
  },
  {
   "cell_type": "markdown",
   "metadata": {},
   "source": [
    "**Question 2** Let's compute the probability that somebody is smart given that that person is an athlete, using marginalisation:\n",
    "\n",
    "$$ p(s|a) = \\frac{p(s,a)}{p(a)} $$\n",
    "\n",
    "where\n",
    "\n",
    "$$p(s,a) = p(s,c,a) + p(s,\\neg c, a)$$"
   ]
  },
  {
   "cell_type": "code",
   "execution_count": 15,
   "metadata": {},
   "outputs": [
    {
     "name": "stdout",
     "output_type": "stream",
     "text": [
      "0.4000000000000001\n"
     ]
    }
   ],
   "source": [
    "# Your answer comes here\n",
    "\n",
    "print((psca+psCa)/pA)"
   ]
  },
  {
   "cell_type": "markdown",
   "metadata": {},
   "source": [
    "**Question 3** Next, let's compute the probability that somebody is smart given that that person is in college\n",
    "\n",
    "$$ P(s|c) = \\frac{P(s,c)}{P(c)} = \\frac{P(s,c,a) + P(s,c,\\neg a)}{P(s,c,a)+P(s,c,\\neg a)+P(\\neg s,c,a) + P(\\neg S,c,\\neg a)}$$"
   ]
  },
  {
   "cell_type": "code",
   "execution_count": 16,
   "metadata": {},
   "outputs": [
    {
     "name": "stdout",
     "output_type": "stream",
     "text": [
      "0.14918032786885246\n"
     ]
    }
   ],
   "source": [
    "# Your answer comes here\n",
    "\n",
    "psc = psca + pscA\n",
    "pc = psca+pscA+pSca+pScA\n",
    "\n",
    "print(psca/pc)# correct reult: 0.7393442622950821"
   ]
  },
  {
   "cell_type": "markdown",
   "metadata": {},
   "source": [
    "**Question 4** Finally, compute the probability that a person is smart, given that this person is in college and an athlete."
   ]
  },
  {
   "cell_type": "code",
   "execution_count": 17,
   "metadata": {},
   "outputs": [
    {
     "name": "stdout",
     "output_type": "stream",
     "text": [
      "0.40265486725663724\n"
     ]
    }
   ],
   "source": [
    "# Your answer comes here\n",
    "#p(s|c,a) = p(s,c,a)/p(c,a)\n",
    "#         = p(s,c,a)/p(~s,c,a)+p(s,c,a)\n",
    "\n",
    "print(psca/(pSca+psca)) #correct result: 0.40265486725663724"
   ]
  },
  {
   "cell_type": "code",
   "execution_count": null,
   "metadata": {},
   "outputs": [],
   "source": []
  }
 ],
 "metadata": {
  "kernelspec": {
   "display_name": "Python 3",
   "language": "python",
   "name": "python3"
  },
  "language_info": {
   "codemirror_mode": {
    "name": "ipython",
    "version": 3
   },
   "file_extension": ".py",
   "mimetype": "text/x-python",
   "name": "python",
   "nbconvert_exporter": "python",
   "pygments_lexer": "ipython3",
   "version": "3.8.5"
  }
 },
 "nbformat": 4,
 "nbformat_minor": 4
}
